{
 "cells": [
  {
   "cell_type": "code",
   "execution_count": 13,
   "metadata": {},
   "outputs": [],
   "source": [
    "import numpy as np\n",
    "import matplotlib.pyplot as plt\n",
    "import matplotlib.animation as animation\n",
    "import random as rnd\n",
    "from functools import reduce\n",
    "import networkx as nx\n",
    "from dataclasses import dataclass\n",
    "from time import sleep\n",
    "from matplotlib import rc\n",
    "from IPython.display import HTML"
   ]
  },
  {
   "cell_type": "code",
   "execution_count": 14,
   "metadata": {},
   "outputs": [],
   "source": [
    "dT = 50\n",
    "seed = 5"
   ]
  },
  {
   "cell_type": "code",
   "execution_count": 15,
   "metadata": {},
   "outputs": [
    {
     "data": {
      "text/plain": [
       "'\\ndef make_network(w: int, h: int) -> int:\\n  rnd.seed(seed)\\n\\n  def is_connected() -> bool:\\n    # return True\\n    return rnd.random() >= 0.5\\n  \\n  def get_potential_neighbours(x: int, y: int) -> list[int]:\\n    raw = [(x + dx, y + dy) \\n           for dx in [-1, 0, 1] \\n           for dy in [-1, 0, 1] \\n           if not (dx == dy == 0)\\n          ]\\n\\n    return [p for p in raw if 0 <= p[0] < w and 0 <= p[1] < h]\\n\\n  spins = [[rnd.choice([-1, 1]) for x in range(0, w)] for y in range(0, h)]\\n  neighbours = [\\n      [ [p for p in get_potential_neighbours(x, y) if is_connected()]\\n        for x, _ in enumerate(row)\\n      ] \\n      for y, row in enumerate(spins)\\n    ]\\n\\n  return spins, neighbours\\n\\ns, n = make_network(5,5)\\n'"
      ]
     },
     "execution_count": 15,
     "metadata": {},
     "output_type": "execute_result"
    }
   ],
   "source": [
    "\"\"\"\n",
    "def make_network(w: int, h: int) -> int:\n",
    "  rnd.seed(seed)\n",
    "\n",
    "  def is_connected() -> bool:\n",
    "    # return True\n",
    "    return rnd.random() >= 0.5\n",
    "  \n",
    "  def get_potential_neighbours(x: int, y: int) -> list[int]:\n",
    "    raw = [(x + dx, y + dy) \n",
    "           for dx in [-1, 0, 1] \n",
    "           for dy in [-1, 0, 1] \n",
    "           if not (dx == dy == 0)\n",
    "          ]\n",
    "\n",
    "    return [p for p in raw if 0 <= p[0] < w and 0 <= p[1] < h]\n",
    "\n",
    "  spins = [[rnd.choice([-1, 1]) for x in range(0, w)] for y in range(0, h)]\n",
    "  neighbours = [\n",
    "      [ [p for p in get_potential_neighbours(x, y) if is_connected()]\n",
    "        for x, _ in enumerate(row)\n",
    "      ] \n",
    "      for y, row in enumerate(spins)\n",
    "    ]\n",
    "\n",
    "  return spins, neighbours\n",
    "\n",
    "s, n = make_network(5,5)\n",
    "\"\"\""
   ]
  },
  {
   "cell_type": "code",
   "execution_count": 16,
   "metadata": {},
   "outputs": [],
   "source": [
    "# fig = plt.figure()\n",
    "\n",
    "# im = plt.imshow(f(x, y), animated=True)\n",
    "\n",
    "\n",
    "# def updatefig(*args):\n",
    "#     \n",
    "#     im.set_array(f(x, y))\n",
    "#     return im,\n",
    "# \n",
    "# ani = animation.FuncAnimation(fig, updatefig, interval=150, blit=True)\n",
    "# plt.show()"
   ]
  },
  {
   "cell_type": "code",
   "execution_count": null,
   "metadata": {},
   "outputs": [],
   "source": []
  },
  {
   "cell_type": "code",
   "execution_count": 17,
   "metadata": {},
   "outputs": [],
   "source": [
    "# error(d) := 1 - <8>/(d^2) = 4/d\n",
    "# <8> = d^2 - 4d\n",
    "# <5> = 4d - 4\n",
    "# <3> = 4, d ≥ 2\n",
    "\n",
    "# d = 20\n",
    "# expected_deg = 4\n",
    "# s, n = make_network(d, d)\n",
    "# \n",
    "# degs = [len(ns) for row in n for ns in row]\n",
    "# deg_std_dev = np.sqrt(sum([ np.abs(deg - expected_deg)**2 for deg in degs ])/len(degs))\n",
    "# avg_deg = sum(degs)/len(degs)\n",
    "# deg_rel_error = 1 - avg_deg/expected_deg\n",
    "# \n",
    "# fig = plt.figure(dpi=100)\n",
    "# im = plt.imshow(s, 'binary')\n",
    "# plt.title(f'σ_deg = {round(deg_std_dev, 3)}, δ_deg = {round(deg_rel_error*100, 3)}%')"
   ]
  },
  {
   "cell_type": "code",
   "execution_count": 18,
   "metadata": {},
   "outputs": [],
   "source": [
    "def bind_neighbours(w, h, ns):\n",
    "  return [p for p in ns if 0 <= p[0] < w and 0 <= p[1] < h]\n",
    "  \n",
    "def get_potential_neighbours_even(d, p) -> list[int]:\n",
    "  w, h = d\n",
    "  x, y = p\n",
    "\n",
    "  raw = [(x + dx, y + dy) \n",
    "          for dx in [-1, 0, 1] \n",
    "          for dy in [-1, 0, 1] \n",
    "          if not (dx == dy == 0)\n",
    "        ]\n",
    "\n",
    "  return bind_neighbours(w, h, raw)\n",
    "\n",
    "def get_potential_neighbours_odd(d, p) -> list[int]:\n",
    "  w, h = d\n",
    "  x, y = p\n",
    "\n",
    "  return bind_neighbours(w, h, [(x - 1, y), (x + 1, y), (x, y - 1), (x, y + 1)])\n",
    "\n",
    "def get_potential_neighbours_even_odd(d, p) -> list[int]:\n",
    "  w, h = d\n",
    "  x, y = p\n",
    "\n",
    "  return bind_neighbours(w, h, [(x - 1, y - 1), (x - 1, y + 1), (x + 1, y - 1), (x + 1, y + 1)])\n",
    "\n",
    "def make_network2(w: int, h: int, p: float):\n",
    "  rnd.seed(seed)\n",
    "\n",
    "  def is_connected() -> bool:\n",
    "    # return True\n",
    "    return rnd.random() >= p\n",
    "  \n",
    "  ns = [[[] for y in range(0, h)] for x in range(0, w)]\n",
    "  s = [[rnd.choice([-1, 1]) for y in range(0, h)] for x in range(0, w)]\n",
    "\n",
    "  for y in range(0, h):\n",
    "    for x in range(0, w):\n",
    "      my = y % 2\n",
    "      mx = x % 2\n",
    "\n",
    "      f = lambda d, p: []\n",
    "      if mx == my == 0:\n",
    "        f = get_potential_neighbours_even\n",
    "      elif mx == my == 1:\n",
    "        f = get_potential_neighbours_odd\n",
    "      elif mx == 0 and my == 1:\n",
    "        f = get_potential_neighbours_even_odd\n",
    "\n",
    "      pn = [e for e in f((w, h), (x, y)) if is_connected()] \n",
    "\n",
    "      ns[x][y].extend(pn)\n",
    "\n",
    "      for xx, yy in pn:\n",
    "        ns[xx][yy].append((x,y))\n",
    "\n",
    "  return s, ns\n"
   ]
  },
  {
   "cell_type": "code",
   "execution_count": 19,
   "metadata": {},
   "outputs": [],
   "source": [
    "def plot_graph(d, ns_matrix, dpi):\n",
    "  w = h = d\n",
    "  fig, ax = plt.subplots(dpi=dpi)\n",
    "  \n",
    "  fig.tight_layout()\n",
    "\n",
    "  for x, column in enumerate(ns_matrix):\n",
    "    for y, ns in enumerate(column):\n",
    "      for xx, yy in ns:\n",
    "        ax.plot([x, xx], [y, yy], 'k.-')"
   ]
  },
  {
   "cell_type": "code",
   "execution_count": 20,
   "metadata": {},
   "outputs": [],
   "source": [
    "# p = 0.49210526315789477\n",
    "def analise(d, p):\n",
    "  expected_deg = 4\n",
    "\n",
    "  s, n = make_network2(d,d, p)\n",
    "\n",
    "  degs = [len(ns) for row in n for ns in row]\n",
    "  deg_std_dev = np.sqrt(sum([ np.abs(deg - expected_deg)**2 for deg in degs ])/len(degs))\n",
    "  # avg_deg = sum(degs)/len(degs)\n",
    "  # deg_rel_error = 1 - avg_deg/expected_deg\n",
    "\n",
    "  # print({'avg_deg':avg_deg, 'deg_std_dev':deg_std_dev, 'deg_rel_error':deg_rel_error})\n",
    "  return deg_std_dev\n",
    "\n",
    "# ps = np.linspace(0.5-0.1, 0.5+0.1, 100)\n",
    "# ds = list(range(800, 1000, 100))\n",
    "# [min([((d, p), analise(d, p)) for p in ps], key=lambda r: r[1]) for d in ds]"
   ]
  },
  {
   "cell_type": "code",
   "execution_count": 57,
   "metadata": {},
   "outputs": [],
   "source": [
    "class Config:\n",
    "  \"\"\"\n",
    "  Single MC config\n",
    "  \"\"\"\n",
    "\n",
    "  spins:   list[list[ int ]]\n",
    "  lattice: list[list[ list[int] ]]\n",
    "  H: float\n",
    "  J: float\n",
    "  T: float\n",
    "  kb: float\n",
    "\n",
    "  def __init__(self, size: int,  H: float, J: float, T: float, kb: float):\n",
    "    self.spins, self.lattice = make_network2(size, size, 0.5)\n",
    "    self.H = H\n",
    "    self.J = J\n",
    "    self.T = T\n",
    "    self.kb = kb\n",
    "\n",
    "  \"\"\"\n",
    "  \\Delta \\mathcal{H} \\{s_k -> -s_k\\} = s_k (J \\sum_{j \\in \\Delta_k} s_j + 2H)\n",
    "  \"\"\"\n",
    "  def calc_delta_H(self, position: tuple[int, int]) -> float:\n",
    "    x, y = position\n",
    "    sk = self.spins[x][y]\n",
    "    neighbours = [self.spins[xx][yy] for xx, yy in self.lattice[x][y]]\n",
    "\n",
    "    return sk * ( self.J * sum(neighbours) + 2*self.H )\n",
    "\n",
    "  def calc_energy(self) -> float:\n",
    "    Hint = -1/2 * self.J * sum([ si * sum(self.lattice[x][y]) for x, column in enumerate(self.spins) for y, si in enumerate(column) ])\n",
    "    Hh   = -self.H * sum([si for column in self.spins for si in column])\n",
    "\n",
    "    return Hint + Hh\n",
    "\n",
    "  def calc_magnetisation(self) -> float:\n",
    "    return sum([ si for column in self.spins for si in column ]) / sum([ len(column) for column in self.spins ])\n",
    "\n",
    "  def evolve(self):\n",
    "    spins_to_switch = []\n",
    "\n",
    "    for x, column in enumerate(self.spins):\n",
    "      for y, sk in enumerate(column):\n",
    "        dH = self.calc_delta_H((x, y))\n",
    "\n",
    "        if dH <= 0 or rnd.random() < np.exp(-dH/(self.kb * self.T)):\n",
    "          spins_to_switch.append((x, y))\n",
    "\n",
    "    for x, y in spins_to_switch:\n",
    "      self.spins[x][y] *= -1\n",
    "    \n"
   ]
  },
  {
   "cell_type": "code",
   "execution_count": 58,
   "metadata": {},
   "outputs": [],
   "source": [
    "# rc('animation', html='html5')\n",
    "# \n",
    "# c = Config(100, 0, 1, 0.5, 1)\n",
    "# \n",
    "# fig = plt.figure()\n",
    "# t = 0\n",
    "# dt = 150\n",
    "# \n",
    "# def updatefig(*args):\n",
    "#   # print(f't={t}, M={c.calc_magnetisation()}')\n",
    "#   c.evolve()\n",
    "#   im.set_array(c.spins)\n",
    "# \n",
    "#   return im,\n",
    "# \n",
    "# im = plt.imshow(c.spins, animated=True)\n",
    "# anim = animation.FuncAnimation(fig, updatefig, interval=dt, frames=100, blit=True)\n",
    "# HTML(anim.to_html5_video())"
   ]
  },
  {
   "cell_type": "code",
   "execution_count": 59,
   "metadata": {},
   "outputs": [
    {
     "data": {
      "text/plain": [
       "<matplotlib.image.AxesImage at 0x7fcb5c4a3c10>"
      ]
     },
     "execution_count": 59,
     "metadata": {},
     "output_type": "execute_result"
    },
    {
     "data": {
      "image/png": "[encoded data removed]",
      "text/plain": [
       "<Figure size 432x288 with 1 Axes>"
      ]
     },
     "metadata": {
      "needs_background": "light"
     },
     "output_type": "display_data"
    }
   ],
   "source": [
    "%matplotlib inline\n",
    "c = Config(10, 1, 1, 0.5, 1)\n",
    "plt.imshow(c.spins)"
   ]
  },
  {
   "cell_type": "code",
   "execution_count": 60,
   "metadata": {},
   "outputs": [
    {
     "data": {
      "text/plain": [
       "<matplotlib.image.AxesImage at 0x7fcb5c4f0af0>"
      ]
     },
     "execution_count": 60,
     "metadata": {},
     "output_type": "execute_result"
    },
    {
     "data": {
      "image/png": "[encoded data removed]",
      "text/plain": [
       "<Figure size 432x288 with 1 Axes>"
      ]
     },
     "metadata": {
      "needs_background": "light"
     },
     "output_type": "display_data"
    }
   ],
   "source": [
    "c.evolve()\n",
    "plt.imshow(c.spins)"
   ]
  }
 ],
 "metadata": {
  "interpreter": {
   "hash": "e7370f93d1d0cde622a1f8e1c04877d8463912d04d973331ad4851f04de6915a"
  },
  "kernelspec": {
   "display_name": "Python 3.10.2 64-bit",
   "language": "python",
   "name": "python3"
  },
  "language_info": {
   "codemirror_mode": {
    "name": "ipython",
    "version": 3
   },
   "file_extension": ".py",
   "mimetype": "text/x-python",
   "name": "python",
   "nbconvert_exporter": "python",
   "pygments_lexer": "ipython3",
   "version": "3.10.2"
  },
  "orig_nbformat": 4
 },
 "nbformat": 4,
 "nbformat_minor": 2
}
